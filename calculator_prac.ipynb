{
  "nbformat": 4,
  "nbformat_minor": 0,
  "metadata": {
    "colab": {
      "provenance": [],
      "authorship_tag": "ABX9TyPmFwpyK9C9wSzPr3c4tDr0",
      "include_colab_link": true
    },
    "kernelspec": {
      "name": "python3",
      "display_name": "Python 3"
    },
    "language_info": {
      "name": "python"
    }
  },
  "cells": [
    {
      "cell_type": "markdown",
      "metadata": {
        "id": "view-in-github",
        "colab_type": "text"
      },
      "source": [
        "<a href=\"https://colab.research.google.com/github/Muhammad-Zeeshan-Burki/coherent2-cal/blob/main/calculator_prac.ipynb\" target=\"_parent\"><img src=\"https://colab.research.google.com/assets/colab-badge.svg\" alt=\"Open In Colab\"/></a>"
      ]
    },
    {
      "cell_type": "code",
      "execution_count": 2,
      "metadata": {
        "colab": {
          "base_uri": "https://localhost:8080/"
        },
        "id": "YpueVQnig9FJ",
        "outputId": "416e387d-bdc4-4de4-a965-7284b9cf60c6"
      },
      "outputs": [
        {
          "output_type": "stream",
          "name": "stderr",
          "text": [
            "2024-10-13 15:53:40.449 WARNING streamlit.runtime.scriptrunner_utils.script_run_context: Thread 'MainThread': missing ScriptRunContext! This warning can be ignored when running in bare mode.\n",
            "2024-10-13 15:53:40.617 \n",
            "  \u001b[33m\u001b[1mWarning:\u001b[0m to view this Streamlit app on a browser, run it with the following\n",
            "  command:\n",
            "\n",
            "    streamlit run /usr/local/lib/python3.10/dist-packages/colab_kernel_launcher.py [ARGUMENTS]\n",
            "2024-10-13 15:53:40.619 Thread 'MainThread': missing ScriptRunContext! This warning can be ignored when running in bare mode.\n",
            "2024-10-13 15:53:40.622 Thread 'MainThread': missing ScriptRunContext! This warning can be ignored when running in bare mode.\n",
            "2024-10-13 15:53:40.625 Thread 'MainThread': missing ScriptRunContext! This warning can be ignored when running in bare mode.\n",
            "2024-10-13 15:53:40.628 Thread 'MainThread': missing ScriptRunContext! This warning can be ignored when running in bare mode.\n",
            "2024-10-13 15:53:40.630 Thread 'MainThread': missing ScriptRunContext! This warning can be ignored when running in bare mode.\n",
            "2024-10-13 15:53:40.633 Session state does not function when running a script without `streamlit run`\n",
            "2024-10-13 15:53:40.635 Thread 'MainThread': missing ScriptRunContext! This warning can be ignored when running in bare mode.\n",
            "2024-10-13 15:53:40.636 Thread 'MainThread': missing ScriptRunContext! This warning can be ignored when running in bare mode.\n",
            "2024-10-13 15:53:40.640 Thread 'MainThread': missing ScriptRunContext! This warning can be ignored when running in bare mode.\n",
            "2024-10-13 15:53:40.642 Thread 'MainThread': missing ScriptRunContext! This warning can be ignored when running in bare mode.\n",
            "2024-10-13 15:53:40.644 Thread 'MainThread': missing ScriptRunContext! This warning can be ignored when running in bare mode.\n",
            "2024-10-13 15:53:40.647 Thread 'MainThread': missing ScriptRunContext! This warning can be ignored when running in bare mode.\n",
            "2024-10-13 15:53:40.648 Thread 'MainThread': missing ScriptRunContext! This warning can be ignored when running in bare mode.\n",
            "2024-10-13 15:53:40.650 Thread 'MainThread': missing ScriptRunContext! This warning can be ignored when running in bare mode.\n",
            "2024-10-13 15:53:40.652 Thread 'MainThread': missing ScriptRunContext! This warning can be ignored when running in bare mode.\n",
            "2024-10-13 15:53:40.654 Thread 'MainThread': missing ScriptRunContext! This warning can be ignored when running in bare mode.\n",
            "2024-10-13 15:53:40.660 Thread 'MainThread': missing ScriptRunContext! This warning can be ignored when running in bare mode.\n",
            "2024-10-13 15:53:40.662 Thread 'MainThread': missing ScriptRunContext! This warning can be ignored when running in bare mode.\n",
            "2024-10-13 15:53:40.664 Thread 'MainThread': missing ScriptRunContext! This warning can be ignored when running in bare mode.\n",
            "2024-10-13 15:53:40.666 Thread 'MainThread': missing ScriptRunContext! This warning can be ignored when running in bare mode.\n",
            "2024-10-13 15:53:40.673 Thread 'MainThread': missing ScriptRunContext! This warning can be ignored when running in bare mode.\n",
            "2024-10-13 15:53:40.676 Thread 'MainThread': missing ScriptRunContext! This warning can be ignored when running in bare mode.\n",
            "2024-10-13 15:53:40.681 Thread 'MainThread': missing ScriptRunContext! This warning can be ignored when running in bare mode.\n",
            "2024-10-13 15:53:40.684 Thread 'MainThread': missing ScriptRunContext! This warning can be ignored when running in bare mode.\n",
            "2024-10-13 15:53:40.685 Thread 'MainThread': missing ScriptRunContext! This warning can be ignored when running in bare mode.\n",
            "2024-10-13 15:53:40.688 Thread 'MainThread': missing ScriptRunContext! This warning can be ignored when running in bare mode.\n",
            "2024-10-13 15:53:40.691 Thread 'MainThread': missing ScriptRunContext! This warning can be ignored when running in bare mode.\n",
            "2024-10-13 15:53:40.693 Thread 'MainThread': missing ScriptRunContext! This warning can be ignored when running in bare mode.\n",
            "2024-10-13 15:53:40.694 Thread 'MainThread': missing ScriptRunContext! This warning can be ignored when running in bare mode.\n",
            "2024-10-13 15:53:40.695 Thread 'MainThread': missing ScriptRunContext! This warning can be ignored when running in bare mode.\n",
            "2024-10-13 15:53:40.697 Thread 'MainThread': missing ScriptRunContext! This warning can be ignored when running in bare mode.\n",
            "2024-10-13 15:53:40.698 Thread 'MainThread': missing ScriptRunContext! This warning can be ignored when running in bare mode.\n"
          ]
        }
      ],
      "source": [
        "import streamlit as st\n",
        "import math\n",
        "\n",
        "# Basic arithmetic operations\n",
        "def basic_operations(num1, num2, operation):\n",
        "    if operation == 'Addition':\n",
        "        return num1 + num2\n",
        "    elif operation == 'Subtraction':\n",
        "        return num1 - num2\n",
        "    elif operation == 'Multiplication':\n",
        "        return num1 * num2\n",
        "    elif operation == 'Division':\n",
        "        if num2 != 0:\n",
        "            return num1 / num2\n",
        "        else:\n",
        "            return \"Error! Division by zero.\"\n",
        "\n",
        "# Trigonometric operations\n",
        "def trigonometric_operations(angle, function):\n",
        "    radians = math.radians(angle)\n",
        "    if function == 'Sine':\n",
        "        return math.sin(radians)\n",
        "    elif function == 'Cosine':\n",
        "        return math.cos(radians)\n",
        "    elif function == 'Tangent':\n",
        "        return math.tan(radians)\n",
        "\n",
        "# Logarithmic operations\n",
        "def logarithmic_operations(num):\n",
        "    if num > 0:\n",
        "        return math.log(num), math.log10(num)\n",
        "    else:\n",
        "        return \"Error! Logarithm of non-positive numbers is undefined.\"\n",
        "\n",
        "# Power and factorial operations\n",
        "def power_factorial_operations(num, exp=None, operation=None):\n",
        "    if operation == 'Power':\n",
        "        return math.pow(num, exp)\n",
        "    elif operation == 'Factorial':\n",
        "        if num >= 0:\n",
        "            return math.factorial(num)\n",
        "        else:\n",
        "            return \"Error! Factorial of negative numbers is undefined.\"\n",
        "\n",
        "# Streamlit Interface\n",
        "st.title(\"Python Calculator\")\n",
        "\n",
        "# Selection of calculator type\n",
        "calc_type = st.sidebar.selectbox(\"Select Operation Type\",\n",
        "                                 (\"Basic Operations\", \"Trigonometric Functions\",\n",
        "                                  \"Logarithms\", \"Power & Factorial\"))\n",
        "\n",
        "# Basic Operations\n",
        "if calc_type == \"Basic Operations\":\n",
        "    st.subheader(\"Basic Operations\")\n",
        "    num1 = st.number_input(\"Enter first number\", format=\"%f\")\n",
        "    num2 = st.number_input(\"Enter second number\", format=\"%f\")\n",
        "    operation = st.selectbox(\"Choose operation\", ('Addition', 'Subtraction', 'Multiplication', 'Division'))\n",
        "    result = basic_operations(num1, num2, operation)\n",
        "    st.write(f\"Result: {result}\")\n",
        "\n",
        "# Trigonometric Functions\n",
        "elif calc_type == \"Trigonometric Functions\":\n",
        "    st.subheader(\"Trigonometric Functions\")\n",
        "    angle = st.number_input(\"Enter angle in degrees\", format=\"%f\")\n",
        "    function = st.selectbox(\"Choose function\", ('Sine', 'Cosine', 'Tangent'))\n",
        "    result = trigonometric_operations(angle, function)\n",
        "    st.write(f\"Result: {result}\")\n",
        "\n",
        "# Logarithms\n",
        "elif calc_type == \"Logarithms\":\n",
        "    st.subheader(\"Logarithmic Functions\")\n",
        "    num = st.number_input(\"Enter a positive number\", format=\"%f\")\n",
        "    if st.button(\"Calculate Logarithms\"):\n",
        "        natural_log, base10_log = logarithmic_operations(num)\n",
        "        st.write(f\"Natural log of {num}: {natural_log}\")\n",
        "        st.write(f\"Base-10 log of {num}: {base10_log}\")\n",
        "\n",
        "# Power & Factorial\n",
        "elif calc_type == \"Power & Factorial\":\n",
        "    st.subheader(\"Power & Factorial Functions\")\n",
        "    operation = st.selectbox(\"Choose operation\", ('Power', 'Factorial'))\n",
        "\n",
        "    if operation == 'Power':\n",
        "        base = st.number_input(\"Enter base number\", format=\"%f\")\n",
        "        exponent = st.number_input(\"Enter exponent\", format=\"%f\")\n",
        "        result = power_factorial_operations(base, exponent, operation='Power')\n",
        "        st.write(f\"Result: {result}\")\n",
        "\n",
        "    elif operation == 'Factorial':\n",
        "        num = st.number_input(\"Enter a non-negative integer\", format=\"%d\")\n",
        "        result = power_factorial_operations(num, operation='Factorial')\n",
        "        st.write(f\"Result: {result}\")\n"
      ]
    },
    {
      "cell_type": "code",
      "source": [],
      "metadata": {
        "id": "aMrUkrCClsi9"
      },
      "execution_count": null,
      "outputs": []
    },
    {
      "cell_type": "markdown",
      "source": [],
      "metadata": {
        "id": "_NgRdXlnlaGa"
      }
    },
    {
      "cell_type": "markdown",
      "source": [],
      "metadata": {
        "id": "024MQcQxlaXE"
      }
    },
    {
      "cell_type": "markdown",
      "source": [],
      "metadata": {
        "id": "PvuaKyaKlast"
      }
    },
    {
      "cell_type": "code",
      "source": [],
      "metadata": {
        "id": "OahpisGzlY5m"
      },
      "execution_count": null,
      "outputs": []
    }
  ]
}